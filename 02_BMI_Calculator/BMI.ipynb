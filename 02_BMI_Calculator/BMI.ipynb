{
 "cells": [
  {
   "cell_type": "code",
   "execution_count": 9,
   "metadata": {},
   "outputs": [
    {
     "name": "stdout",
     "output_type": "stream",
     "text": [
      "Thank you for your time! 😊\n",
      "\n"
     ]
    }
   ],
   "source": [
    "\n",
    "def calculate_bmi(weight, height):\n",
    "    \"\"\"Calculate BMI given weight and height.\"\"\"\n",
    "    return weight / (height ** 2)\n",
    "\n",
    "def determine_bmi_category(bmi):\n",
    "    \"\"\"Determine BMI category based on BMI value.\"\"\"\n",
    "    if bmi < 18.5:\n",
    "        return \"Underweight 🧑‍⚖️\"\n",
    "    elif 18.5 <= bmi < 24.9:\n",
    "        return \"Normal Weight 🏃\"\n",
    "    elif 25 <= bmi < 29.9:\n",
    "        return \"Overweight 🍔\"\n",
    "    else:\n",
    "        return \"Obese 🚨\"\n",
    "\n",
    "def bmi_calculator():\n",
    "    '''This program will calculate the Body Mass Index (BMI) for users '''\n",
    "\n",
    "    name = input(\"Enter your Name: \")\n",
    "    height = float(input(\"Please Share your weight (in kg): \"))\n",
    "    weight = float(input(\"Please Share your height (in meters): \"))\n",
    "\n",
    "    # BMI Calculation\n",
    "    bmi = calculate_bmi(height, weight)\n",
    "    print(f'\\n{name}, your BMI is: {round(bmi, 2)}\\n')\n",
    "\n",
    "    # Category determination\n",
    "    category = determine_bmi_category(bmi)\n",
    "    print(f\"Category: {category}\\n\")\n",
    "    \n",
    "\n",
    "def main():\n",
    "    \"\"\"Main function to run the BMI calculator.\"\"\"\n",
    "    while True:\n",
    "\n",
    "        \n",
    "        calculate = input(\"Do you want to calculate your BMI? (yes/no): \").lower()\n",
    "        \n",
    "        if calculate == 'yes':\n",
    "\n",
    "            bmi_calculator()\n",
    "        else:\n",
    "            print(\"Thank you for your time! 😊\\n\")\n",
    "            break\n",
    "\n",
    "# Run the main function\n",
    "\n",
    "main()\n"
   ]
  }
 ],
 "metadata": {
  "kernelspec": {
   "display_name": "Python 3",
   "language": "python",
   "name": "python3"
  },
  "language_info": {
   "codemirror_mode": {
    "name": "ipython",
    "version": 3
   },
   "file_extension": ".py",
   "mimetype": "text/x-python",
   "name": "python",
   "nbconvert_exporter": "python",
   "pygments_lexer": "ipython3",
   "version": "3.12.4"
  }
 },
 "nbformat": 4,
 "nbformat_minor": 2
}
