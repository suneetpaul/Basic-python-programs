{
 "cells": [
  {
   "cell_type": "code",
   "execution_count": 1,
   "metadata": {},
   "outputs": [
    {
     "name": "stdout",
     "output_type": "stream",
     "text": [
      "2000 is a Leap Year.\n",
      "\n",
      "Goodbye! 👋 See you next time.\n",
      "\n"
     ]
    }
   ],
   "source": [
    "def is_leap_year(year):\n",
    "    \"\"\"Check if a given year is a leap year.\"\"\"\n",
    "    if year % 4 == 0:  # Year is divisible by 4\n",
    "        if year % 100 == 0:  # Year is divisible by 100\n",
    "            if year % 400 == 0:  # Year is divisible by 400\n",
    "                print(f\"{year} is a Leap Year.\\n\")\n",
    "            else:\n",
    "                print(f\"{year} is not a Leap Year.\\n\")\n",
    "        else:\n",
    "            print(f\"{year} is a Leap Year.\\n\")\n",
    "    else:\n",
    "        print(f\"{year} is not a Leap Year.\\n\")\n",
    "\n",
    "def main():\n",
    "    \"\"\"Main Function to Run the Leap Year Checker.\"\"\"\n",
    "    while True:\n",
    "        status = input(\"Want to check for Leap Year? (y/n): \").lower()\n",
    "        if status == 'y':\n",
    "            year = int(input(\"Enter the Year: \"))  # Prompt user for year input\n",
    "            is_leap_year(year)               # Check if the entered year is a leap year\n",
    "        else:\n",
    "            print(\"Goodbye! 👋 See you next time.\\n\")\n",
    "            break                         # Exit the loop and end the program\n",
    "\n",
    "main()  # Call the main function to start the program\n"
   ]
  },
  {
   "cell_type": "code",
   "execution_count": null,
   "metadata": {},
   "outputs": [],
   "source": []
  }
 ],
 "metadata": {
  "kernelspec": {
   "display_name": "Python 3",
   "language": "python",
   "name": "python3"
  },
  "language_info": {
   "codemirror_mode": {
    "name": "ipython",
    "version": 3
   },
   "file_extension": ".py",
   "mimetype": "text/x-python",
   "name": "python",
   "nbconvert_exporter": "python",
   "pygments_lexer": "ipython3",
   "version": "3.12.4"
  }
 },
 "nbformat": 4,
 "nbformat_minor": 2
}
