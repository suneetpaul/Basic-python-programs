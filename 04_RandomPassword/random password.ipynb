{
 "cells": [
  {
   "cell_type": "code",
   "execution_count": 1,
   "metadata": {},
   "outputs": [
    {
     "name": "stdout",
     "output_type": "stream",
     "text": [
      "*epas3lu%9\n"
     ]
    }
   ],
   "source": [
    "import numpy as np\n",
    "import random as rd\n",
    "\n",
    "ask_keyword = input(\"Input the keyword for your password: \")\n",
    "while True:\n",
    "    try:\n",
    "        ask_len = int(input(\"Input the length of your password: \"))\n",
    "        ask_character = int(input(\"Input the number of characters for your password: \"))\n",
    "        ask_num = int(input(\"Input the number of numbers for your password: \"))\n",
    "        ask_symbol = int(input(\"Input the number of symbols for your password: \"))\n",
    "        \n",
    "        if ask_len < ask_character + ask_num + ask_symbol:\n",
    "            print(\"The sum of characters, numbers and symbols cannot exceed the total password length.\")\n",
    "            continue\n",
    "        \n",
    "        break\n",
    "    except ValueError:\n",
    "        print(\"Please input a number\")\n",
    "    except Exception as e:\n",
    "        print(f\"An error occurred: {e}\")\n",
    "\n",
    "spl_charc = [\"@\", \"#\", \"!\", \"$\", \"%\", \"^\", \"*\", \"-\", \"+\"]\n",
    "spl_symbol = rd.sample(spl_charc, ask_symbol)\n",
    "\n",
    "password = list(ask_keyword)\n",
    "\n",
    "# Add characters\n",
    "for _ in range(ask_character):\n",
    "  password.append(chr(rd.randint(97,122))) # Lowercase letters\n",
    "  \n",
    "# Add numbers\n",
    "for _ in range(ask_num):\n",
    "  password.append(str(rd.randint(0,9)))\n",
    "\n",
    "# Add symbols\n",
    "for symbol in spl_symbol:\n",
    "  password.append(symbol)\n",
    "\n",
    "# Add remaining random characters to reach desired length\n",
    "remaining_length = ask_len - len(password)\n",
    "\n",
    "for _ in range(remaining_length):\n",
    "    password.append(rd.choice(password)) # Randomly select from existing characters for more unpredictability\n",
    "\n",
    "rd.shuffle(password)\n",
    "print(\"\".join(password))"
   ]
  }
 ],
 "metadata": {
  "kernelspec": {
   "display_name": "Python 3",
   "language": "python",
   "name": "python3"
  },
  "language_info": {
   "codemirror_mode": {
    "name": "ipython",
    "version": 3
   },
   "file_extension": ".py",
   "mimetype": "text/x-python",
   "name": "python",
   "nbconvert_exporter": "python",
   "pygments_lexer": "ipython3",
   "version": "3.12.4"
  }
 },
 "nbformat": 4,
 "nbformat_minor": 2
}
