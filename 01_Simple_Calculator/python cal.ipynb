{
 "cells": [
  {
   "cell_type": "code",
   "execution_count": 1,
   "metadata": {},
   "outputs": [
    {
     "name": "stdout",
     "output_type": "stream",
     "text": [
      "first number 4\n",
      "second number 5\n",
      "9\n",
      " invalid input \n",
      "first number 5\n",
      "second number 5\n",
      "25\n",
      " invalid input \n",
      "good bye \n"
     ]
    }
   ],
   "source": [
    "def add(x, y):\n",
    "    print( \"first number\" , num )\n",
    "    print( \"second number\" , num2 )\n",
    "    print(x + y )\n",
    "   \n",
    "\n",
    "def sub(x,y):\n",
    "    print( \"first number\" , num )\n",
    "    print( \"second number\" , num2 )\n",
    "    a =  x - y\n",
    "    print(a)\n",
    "\n",
    "def mul(x,y):\n",
    "    print( \"first number\" , num )\n",
    "    print( \"second number\" , num2 )\n",
    "    a = x * y\n",
    "    print(a)\n",
    "\n",
    "def div(x,y):\n",
    "    print( \"first number\" , num )\n",
    "    print( \"second number\" , num2 )\n",
    "    a = x / y\n",
    "    print(a)\n",
    "\n",
    "\n",
    "user = \" \"\n",
    "\n",
    "while user!= \"exit\":\n",
    "    user =  input(\" add , sub , mult , div , exit \").lower()\n",
    "\n",
    "    if user == \"exit\":\n",
    "        print(\"good bye \")\n",
    "        break\n",
    "\n",
    "    elif user == \"add\":\n",
    "        \n",
    "        num = int(input(\" your first number \"))\n",
    "        num2 =  int(input(\" your second number \"))\n",
    "        add(num , num2)\n",
    "        continue\n",
    "\n",
    "    elif user == \"sub\":\n",
    "        \n",
    "        num = int(input(\" your first number \"))\n",
    "        num2 =  int(input(\" your second number \"))\n",
    "        sub(num , num2)\n",
    "        continue\n",
    "\n",
    "    elif user == \"mult\":\n",
    "        \n",
    "        num = int(input(\" your first number \"))\n",
    "        num2 =  int(input(\" your second number \"))\n",
    "        mul(num , num2)\n",
    "        continue\n",
    "\n",
    "    elif user == \"div\":\n",
    "        \n",
    "        num = int(input(\" your first number \"))\n",
    "        num2 =  int(input(\" your second number \"))\n",
    "        div(num , num2)\n",
    "        continue\n",
    "\n",
    "    else:\n",
    "        print(\" invalid input \")\n",
    "\n",
    "\n",
    "\n"
   ]
  }
 ],
 "metadata": {
  "kernelspec": {
   "display_name": "Python 3",
   "language": "python",
   "name": "python3"
  },
  "language_info": {
   "codemirror_mode": {
    "name": "ipython",
    "version": 3
   },
   "file_extension": ".py",
   "mimetype": "text/x-python",
   "name": "python",
   "nbconvert_exporter": "python",
   "pygments_lexer": "ipython3",
   "version": "3.12.4"
  }
 },
 "nbformat": 4,
 "nbformat_minor": 2
}
