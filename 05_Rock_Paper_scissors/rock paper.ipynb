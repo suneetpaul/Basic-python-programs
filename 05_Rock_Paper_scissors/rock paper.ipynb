{
 "cells": [
  {
   "cell_type": "code",
   "execution_count": 16,
   "metadata": {},
   "outputs": [
    {
     "name": "stdout",
     "output_type": "stream",
     "text": [
      "You lose! paper covers rock\n",
      "Tie!\n",
      "That's not a valid play. Check your spelling!\n",
      "thnks for playing\n"
     ]
    }
   ],
   "source": [
    "from random import randint\n",
    "\n",
    "\n",
    "t = [\"rock\", \"paper\", \"scissors\"]\n",
    "\n",
    "p = 0\n",
    "\n",
    "while p== 0:\n",
    "    \n",
    "    computer = t[randint(0,2)]\n",
    "    \n",
    "    player = input(\"Rock, Paper, Scissors?\").lower()\n",
    "   \n",
    "    if player == 'exit':\n",
    "\n",
    "        print('thnks for playing')\n",
    "        break\n",
    "\n",
    "\n",
    "    elif player == computer:\n",
    "        print(\"Tie!\")\n",
    "\n",
    "\n",
    "    elif player == \"rock\":\n",
    "\n",
    "        if computer == \"paper\":\n",
    "            print(\"You lose!\", computer, \"covers\", player)\n",
    "\n",
    "        else:\n",
    "            print(\"You win!\", player, \"smashes\", computer)\n",
    "\n",
    "    elif player == \"paper\":\n",
    "\n",
    "        if computer == \"scissors\":\n",
    "            print(\"You lose!\", computer, \"cut\", player)\n",
    "\n",
    "        else:\n",
    "            print(\"You win!\", player, \"covers\", computer)\n",
    "\n",
    "    elif player == \"scissors\":\n",
    "\n",
    "        if computer == \"rock\":\n",
    "            print(\"You lose...\", computer, \"smashes\", player)\n",
    "\n",
    "        else:\n",
    "            print(\"You win!\", player, \"cut\", computer)\n",
    "\n",
    "    else:\n",
    "        print(\"That's not a valid play. Check your spelling!\")\n",
    "    \n",
    "   \n",
    "\n",
    "\n",
    "\n"
   ]
  }
 ],
 "metadata": {
  "kernelspec": {
   "display_name": "Python 3",
   "language": "python",
   "name": "python3"
  },
  "language_info": {
   "codemirror_mode": {
    "name": "ipython",
    "version": 3
   },
   "file_extension": ".py",
   "mimetype": "text/x-python",
   "name": "python",
   "nbconvert_exporter": "python",
   "pygments_lexer": "ipython3",
   "version": "3.12.4"
  }
 },
 "nbformat": 4,
 "nbformat_minor": 2
}
